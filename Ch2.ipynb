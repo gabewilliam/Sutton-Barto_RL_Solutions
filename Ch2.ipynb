{
 "cells": [
  {
   "cell_type": "markdown",
   "metadata": {},
   "source": [
    "# Chapter 2 - Multi-armed Bandits"
   ]
  },
  {
   "cell_type": "markdown",
   "metadata": {},
   "source": [
    "### Exercise 2.1 ###\n",
    "Q: _'In $\\epsilon$-greedy action selection, for the case of two actions and $\\epsilon=0.5$, what is the probability that the greedy action is selected?'_\n",
    "\n",
    "A: The probability of selecting the greedy action is $1-\\epsilon = 1-0.5 = 0.5$. "
   ]
  },
  {
   "cell_type": "markdown",
   "metadata": {},
   "source": [
    "### Exercise 2.2\n",
    "Q: _'Consider a k-armed bandit problem with $k=4$ actions, denoted 1,2,3, and 4. Consider applying to this problem a bandit algorithm using $\\epsilon$-greedy, sample-average action-value estimates, and initial estimates of $A_1(a)=0, \\forall a$. Suppose the initial sequence of actions and rewards is $A_1=1, R_1=-1,A_2=2,R_2=1,A_3=2,R_3=-2,A_4=2,R_4=2,A_5=3,R_5=0$. On some of these time steps the $\\epsilon$ case may have occurred, causing an action to be selected at random. On which time steps did this definitely occur? On which time steps could this possibly have occurred?'_\n",
    "\n",
    "A: The action-value estimate $Q_t(a)$ for each action $a$ after each time step $t$ is shown in the following table:\n",
    "\n",
    "| $t$ | $A_1$ | $A_2$ | $A_3$ | $A_4$ |\n",
    "|-----|-------|-------|-------|-------|\n",
    "|  1  |   -1  |   0   |   0   |   0   |\n",
    "|  2  |   -1  |   1   |   0   |   0   |\n",
    "|  3  |   -1  |  -0.5 |   0   |   0   |\n",
    "|  4  |   -1  | 0.333 |   0   |   0   |\n",
    "|  5  |   -1  | 0.333 |   0   |   0   |\n",
    "\n",
    "At time step $5$, $A_3$ is selected, despite $A_2$ having the highest action-value estimate of $0.333$, and so the $\\epsilon$ case must have occurred here. The $\\epsilon$ case could also have occurred on time steps $1$ and $2$, however in these cases there were multiple actions with the maximum action-value estimate, and so the agent would have chosen one of these randomly if the $\\epsilon$ case did not occur."
   ]
  },
  {
   "cell_type": "code",
   "execution_count": null,
   "metadata": {},
   "outputs": [],
   "source": [
    "### Exercise 2.3\n",
    "Q: __"
   ]
  }
 ],
 "metadata": {
  "kernelspec": {
   "display_name": "Python 3",
   "language": "python",
   "name": "python3"
  },
  "language_info": {
   "codemirror_mode": {
    "name": "ipython",
    "version": 3
   },
   "file_extension": ".py",
   "mimetype": "text/x-python",
   "name": "python",
   "nbconvert_exporter": "python",
   "pygments_lexer": "ipython3",
   "version": "3.7.9"
  }
 },
 "nbformat": 4,
 "nbformat_minor": 4
}
